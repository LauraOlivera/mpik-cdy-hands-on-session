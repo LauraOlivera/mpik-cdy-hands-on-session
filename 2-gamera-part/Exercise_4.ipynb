{
 "cells": [
  {
   "cell_type": "markdown",
   "metadata": {},
   "source": [
    "## Gamera Task 4"
   ]
  },
  {
   "cell_type": "markdown",
   "metadata": {},
   "source": [
    "4a. Given a magnetic field of 1 muG and the CMB, what loss process dominates for electrons as a function of energy? How do the loss times scale with energy?  How does this change if the magnetic field and CMB temperature change?\n",
    "\n",
    "4b. Now evolve an E^-2 injected electron spectrum in the 1 muG magnetic field and CMB. How does the spectrum change over time? How does this relate to the cooling times from above?"
   ]
  },
  {
   "cell_type": "code",
   "execution_count": 1,
   "metadata": {},
   "outputs": [],
   "source": [
    "import sys\n",
    "sys.path.append('/lfs/l7/hawc/users/gschwefer/software/GAMERA/lib')\n",
    "import gappa as gp"
   ]
  },
  {
   "cell_type": "code",
   "execution_count": 2,
   "metadata": {},
   "outputs": [],
   "source": [
    "import numpy as np\n",
    "import matplotlib.pyplot as plt\n"
   ]
  },
  {
   "cell_type": "markdown",
   "metadata": {},
   "source": [
    "We set up a simple function making use of Gamera's `GetCoolingTmeScale` functionality. This is of course independent of the electrons considered and just a pure characteristic of the loss process, sow e don't need to set any properties of the electrons. It is a function of the two parameters we want to vary, the magnetic field and the CMB temperature as well as the energies we want to evaluate the loss time at"
   ]
  },
  {
   "cell_type": "code",
   "execution_count": null,
   "metadata": {},
   "outputs": [],
   "source": []
  },
  {
   "cell_type": "markdown",
   "metadata": {},
   "source": [
    "Now we evaluate for our default parameters. We choose a very wide energy range toreach the Klein-Nishiina regie for IC losses at high energies"
   ]
  },
  {
   "cell_type": "code",
   "execution_count": null,
   "metadata": {},
   "outputs": [],
   "source": []
  },
  {
   "cell_type": "code",
   "execution_count": null,
   "metadata": {},
   "outputs": [],
   "source": []
  },
  {
   "cell_type": "markdown",
   "metadata": {},
   "source": [
    "For these parameters, Inverse Compton losses dominate over synchrotron losses for energies below a couple of 100 TeVs. Above that, the Klein-Nishina suppression sets in and synchrotron losses dominate. For synchrotron losses and IC losses in the Thomson regime, energy losses are proportional to E^2, so the loss time goes as E^-1. In the KN limit, the energy loss is almost independent of electron energy, so, so the loss time increases proportional to E. For more details, see Blumenthal and Gould 1970 "
   ]
  },
  {
   "cell_type": "markdown",
   "metadata": {},
   "source": [
    "Let's vary the B-field and CMB Temp"
   ]
  },
  {
   "cell_type": "code",
   "execution_count": null,
   "metadata": {},
   "outputs": [],
   "source": []
  },
  {
   "cell_type": "markdown",
   "metadata": {},
   "source": [
    "and plot again"
   ]
  },
  {
   "cell_type": "code",
   "execution_count": null,
   "metadata": {},
   "outputs": [],
   "source": []
  },
  {
   "cell_type": "markdown",
   "metadata": {},
   "source": [
    "For synchrotron losses, the loss time scales proportional to B^-2. For Inverse Compton, for a constant energy density of the radiation field, the only difference with the temperature is the earlier or later onset of the Klein-Nishina suppression"
   ]
  },
  {
   "cell_type": "markdown",
   "metadata": {},
   "source": [
    "### Task 4b"
   ]
  },
  {
   "cell_type": "markdown",
   "metadata": {},
   "source": [
    "We're going to once again encapsulate the functionality in a function. As parameters, it takes the source age, B field and CMB temperature as well as the electron energies we want to evaluate this at. \n",
    "\n",
    "There is one subtlety here: The electron energies at which the evolved spectrum is given do not correspond to the energies at which the injected spectrum is defined. So we need to take the energies that are part of the output of the evolved particle spectrum as done below"
   ]
  },
  {
   "cell_type": "code",
   "execution_count": null,
   "metadata": {},
   "outputs": [],
   "source": []
  },
  {
   "cell_type": "markdown",
   "metadata": {},
   "source": [
    "Let's evaluate this for a few source ages"
   ]
  },
  {
   "cell_type": "code",
   "execution_count": null,
   "metadata": {},
   "outputs": [],
   "source": []
  },
  {
   "cell_type": "code",
   "execution_count": null,
   "metadata": {},
   "outputs": [],
   "source": []
  },
  {
   "cell_type": "markdown",
   "metadata": {},
   "source": [
    "Because the high-energy particles cool fastest, the spectrum softens over time. The position of the spectral break at any given time corresponds to the energy for which the cooling time equals the source age. "
   ]
  }
 ],
 "metadata": {
  "kernelspec": {
   "display_name": "Python 3 (ipykernel)",
   "language": "python",
   "name": "python3"
  },
  "language_info": {
   "codemirror_mode": {
    "name": "ipython",
    "version": 3
   },
   "file_extension": ".py",
   "mimetype": "text/x-python",
   "name": "python",
   "nbconvert_exporter": "python",
   "pygments_lexer": "ipython3",
   "version": "3.10.14"
  }
 },
 "nbformat": 4,
 "nbformat_minor": 4
}
