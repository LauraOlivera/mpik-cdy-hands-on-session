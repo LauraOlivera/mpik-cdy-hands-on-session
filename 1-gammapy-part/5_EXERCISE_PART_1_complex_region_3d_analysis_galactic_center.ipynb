{
 "cells": [
  {
   "cell_type": "code",
   "execution_count": 1,
   "metadata": {},
   "outputs": [],
   "source": [
    "%matplotlib inline"
   ]
  },
  {
   "cell_type": "markdown",
   "metadata": {},
   "source": [
    "\n",
    "# 3D map analysis\n",
    "\n",
    "\n",
    "## Context\n",
    "\n",
    "While 1D spectral analysis is sufficient model a single point-source in the ON region, 3D analyses allow to consider complex field of views containing overlapping gamma-ray sources and model their respectibe morphologies.\n",
    "\n",
    "\n",
    "## Proposed approach\n",
    "\n",
    "In practice, we have to:\n",
    "\n",
    "- Create a `~gammapy.data.DataStore` pointing to the relevant data\n",
    "- Apply an observation selection to produce a list of observations,\n",
    "  a `~gammapy.data.Observations` object.\n",
    "- Define a geometry of the `~gammapy.datasets.MapDataset` we want to produce, with a sky projection\n",
    "  and an energy range :\n",
    "    - Create a `~gammapy.maps.MapAxis` for the energy\n",
    "    - Create a `~gammapy.maps.WcsGeom` for the geometry\n",
    "    \n",
    "- Define the`~gammapy.modeling.models.Models` to apply to the dataset.\n",
    "    - Load the known source from previous catalogues for example `gammapy.catalog.SourceCatalogHGPS`\n",
    "    - Read one of the `gammapy.modeling.models.TemplateSpatialModel` provided for the diffuse emission\n",
    "    - Use the known sources to create exclusion region map\n",
    "  \n",
    "- Create the necessary makers:\n",
    "\n",
    "  - the map dataset maker `~gammapy.makers.MapDatasetMaker`\n",
    "  - the background normalization maker, here a `~gammapy.makers.FoVBackgroundMaker` \n",
    "  - and usually the safe range maker : `~gammapy.makers.SafeMaskMaker`\n",
    "\n",
    "- Perform the data reduction loop :\n",
    "  - create a stacked `~gammapy.datasets.MapDataset` using the `~gammapy.makers.DatasetsMaskMaker`\n",
    "\n",
    "- Make a TSmap using `~gammapy.estimators.TSMapEstimator`\n",
    "- Create a `~gammapy.modeling.Fit` object and run it to fit the model\n",
    "  parameters\n",
    "- Use `~gammapy.estimators.utils.find_peaks_in_flux_map` to find new source candidates\n",
    "- Fit, add new source models and re-fit until we get flat residual in the TSmap\n",
    "- Usage of `~gammapy.modeling.select_nested_models` to compute significance for :\n",
    "    - source detection\n",
    "    - spectral curvature\n",
    "    - spatial extension.\n",
    "\n",
    "\n",
    "## Setup\n",
    "\n",
    "First, we setup the analysis by performing required imports.\n"
   ]
  },
  {
   "cell_type": "code",
   "execution_count": 2,
   "metadata": {},
   "outputs": [],
   "source": [
    "from pathlib import Path\n",
    "from astropy import units as u\n",
    "from astropy.coordinates import SkyCoord\n",
    "from regions import CircleSkyRegion, Regions\n",
    "import numpy as np\n",
    "import matplotlib.pyplot as plt\n",
    "import matplotlib as mpl\n",
    "from IPython.display import display\n",
    "\n",
    "from gammapy.catalog import CATALOG_REGISTRY\n",
    "from gammapy.data import DataStore\n",
    "from gammapy.datasets import MapDataset\n",
    "from gammapy.estimators import TSMapEstimator\n",
    "from gammapy.makers import FoVBackgroundMaker, MapDatasetMaker, SafeMaskMaker, DatasetsMaker\n",
    "from gammapy.maps import MapAxis, WcsGeom\n",
    "from gammapy.modeling import Fit\n",
    "from gammapy.modeling.models import (\n",
    "    FoVBackgroundModel,\n",
    "    PointSpatialModel,\n",
    "    PowerLawSpectralModel,\n",
    "    LogParabolaSpectralModel,\n",
    "    SkyModel,\n",
    "    TemplateSpatialModel,\n",
    "    PowerLawNormSpectralModel,\n",
    "    Models,\n",
    "    GeneralizedGaussianSpatialModel\n",
    ")\n",
    "from gammapy.utils.check import check_tutorials_setup\n",
    "from gammapy.visualization import plot_npred_signal\n",
    "\n",
    "from gammapy.utils import pbar\n",
    "pbar.SHOW_PROGRESS_BAR = True"
   ]
  },
  {
   "cell_type": "markdown",
   "metadata": {},
   "source": [
    "## Defining the datastore and selecting observations\n",
    "\n",
    "We first use the `~gammapy.data.DataStore` object to access the\n",
    "observations we want to analyse. Here we are going to use the simulated observations from CTA-1DC (first technical data challenge).\n"
   ]
  },
  {
   "cell_type": "code",
   "execution_count": 3,
   "metadata": {},
   "outputs": [],
   "source": [
    "data_store = DataStore.from_dir(\"$GAMMAPY_DATA/cta-1dc/index/gps/\")"
   ]
  },
  {
   "cell_type": "markdown",
   "metadata": {},
   "source": [
    "We can now define an observation filter to select only the relevant\n",
    "observations. Here we use a cone search which we define with a python\n",
    "dict.\n",
    "\n",
    "We then filter the `ObservationTable` with\n",
    "`~gammapy.data.ObservationTable.select_observations`.\n",
    "\n",
    "\n"
   ]
  },
  {
   "cell_type": "code",
   "execution_count": null,
   "metadata": {},
   "outputs": [
    {
     "data": {
      "text/html": [
       "<div><i>ObservationTable length=3</i>\n",
       "<table id=\"table5601908368\" class=\"table-striped table-bordered table-condensed\">\n",
       "<thead><tr><th>OBS_ID</th><th>RA_PNT</th><th>DEC_PNT</th><th>GLON_PNT</th><th>GLAT_PNT</th><th>ZEN_PNT</th><th>ALT_PNT</th><th>AZ_PNT</th><th>ONTIME</th><th>LIVETIME</th><th>DEADC</th><th>TSTART</th><th>TSTOP</th><th>DATE-OBS</th><th>TIME-OBS</th><th>DATE-END</th><th>TIME-END</th><th>N_TELS</th><th>OBJECT</th><th>CALDB</th><th>IRF</th><th>EVENTS_FILENAME</th><th>EVENT_COUNT</th></tr></thead>\n",
       "<thead><tr><th></th><th>deg</th><th>deg</th><th>deg</th><th>deg</th><th>deg</th><th>deg</th><th>deg</th><th>s</th><th>s</th><th></th><th>s</th><th>s</th><th></th><th></th><th></th><th></th><th></th><th></th><th></th><th></th><th></th><th></th></tr></thead>\n",
       "<thead><tr><th>int64</th><th>float64</th><th>float64</th><th>float64</th><th>float64</th><th>float64</th><th>float64</th><th>int64</th><th>float64</th><th>float64</th><th>float64</th><th>float64</th><th>float64</th><th>bytes10</th><th>bytes8</th><th>bytes10</th><th>bytes8</th><th>int64</th><th>bytes21</th><th>bytes3</th><th>bytes13</th><th>bytes50</th><th>int64</th></tr></thead>\n",
       "<tr><td>110380</td><td>267.68121338</td><td>-29.6075</td><td>359.9999912037958</td><td>-1.299995937905366</td><td>0.0</td><td>90.0</td><td>0</td><td>1800.0</td><td>1764.0</td><td>0.98000001907</td><td>664502400.0</td><td>664504192.0</td><td>2021-01-21</td><td>11:58:51</td><td>2021-01-21</td><td>12:28:51</td><td>0</td><td>Galactic Plane Survey</td><td>1dc</td><td>South_z20_50h</td><td>1dc/1dc/data/baseline/gps/gps_baseline_110380.fits</td><td>106217</td></tr>\n",
       "<tr><td>111140</td><td>264.2315979</td><td>-29.5214</td><td>358.4999833830074</td><td>1.3000020211954284</td><td>0.0</td><td>90.0</td><td>0</td><td>1800.0</td><td>1764.0</td><td>0.98000001907</td><td>667958400.0</td><td>667960192.0</td><td>2021-03-02</td><td>11:58:51</td><td>2021-03-02</td><td>12:28:51</td><td>0</td><td>Galactic Plane Survey</td><td>1dc</td><td>South_z20_50h</td><td>1dc/1dc/data/baseline/gps/gps_baseline_111140.fits</td><td>106386</td></tr>\n",
       "<tr><td>111159</td><td>266.03671265</td><td>-26.9782</td><td>1.5000056568267741</td><td>1.299940468335294</td><td>0.0</td><td>90.0</td><td>0</td><td>1800.0</td><td>1764.0</td><td>0.98000001907</td><td>668044800.0</td><td>668046592.0</td><td>2021-03-03</td><td>11:58:51</td><td>2021-03-03</td><td>12:28:51</td><td>0</td><td>Galactic Plane Survey</td><td>1dc</td><td>South_z20_50h</td><td>1dc/1dc/data/baseline/gps/gps_baseline_111159.fits</td><td>105741</td></tr>\n",
       "</table></div>"
      ],
      "text/plain": [
       "<ObservationTable length=3>\n",
       "OBS_ID    RA_PNT    ... EVENT_COUNT\n",
       "           deg      ...            \n",
       "int64    float64    ...    int64   \n",
       "------ ------------ ... -----------\n",
       "110380 267.68121338 ...      106217\n",
       "111140  264.2315979 ...      106386\n",
       "111159 266.03671265 ...      105741"
      ]
     },
     "metadata": {},
     "output_type": "display_data"
    }
   ],
   "source": []
  },
  {
   "cell_type": "markdown",
   "metadata": {},
   "source": [
    "We can now retrieve the relevant observations by passing their\n",
    "``obs_id`` to the `~gammapy.data.DataStore.get_observations`\n",
    "method.\n",
    "\n",
    "\n"
   ]
  },
  {
   "cell_type": "code",
   "execution_count": null,
   "metadata": {},
   "outputs": [
    {
     "data": {
      "application/vnd.jupyter.widget-view+json": {
       "model_id": "7a9fd9b9e0234427bb3ae024625126e4",
       "version_major": 2,
       "version_minor": 0
      },
      "text/plain": [
       "Obs Id:   0%|          | 0/3 [00:00<?, ?it/s]"
      ]
     },
     "metadata": {},
     "output_type": "display_data"
    }
   ],
   "source": []
  },
  {
   "cell_type": "markdown",
   "metadata": {},
   "source": [
    "And look at their details"
   ]
  },
  {
   "cell_type": "code",
   "execution_count": null,
   "metadata": {},
   "outputs": [
    {
     "data": {
      "text/html": [
       "<pre>EventList\n",
       "---------\n",
       "\n",
       "  Instrument       : None\n",
       "  Telescope        : CTA\n",
       "  Obs. ID          : 110380\n",
       "\n",
       "  Number of events : 106217\n",
       "  Event rate       : 59.273 1 / s\n",
       "\n",
       "  Time start       : 59235.5\n",
       "  Time stop        : 59235.52074074074\n",
       "\n",
       "  Min. energy      : 3.00e-02 TeV\n",
       "  Max. energy      : 1.46e+02 TeV\n",
       "  Median energy    : 1.02e-01 TeV\n",
       "\n",
       "  Max. offset      : 5.0 deg\n",
       "</pre>"
      ],
      "text/plain": [
       "<gammapy.data.event_list.EventList at 0x14d8eb8d0>"
      ]
     },
     "execution_count": 6,
     "metadata": {},
     "output_type": "execute_result"
    }
   ],
   "source": []
  },
  {
   "cell_type": "markdown",
   "metadata": {},
   "source": [
    "## Preparing reduced datasets geometry\n",
    "\n",
    "Now we define a reference geometry for our analysis, We choose a WCS\n",
    "based geometry with a binsize of 0.02 deg and also define an energy\n",
    "axis:\n",
    "\n",
    "\n"
   ]
  },
  {
   "cell_type": "code",
   "execution_count": null,
   "metadata": {},
   "outputs": [],
   "source": []
  },
  {
   "cell_type": "code",
   "execution_count": null,
   "metadata": {},
   "outputs": [],
   "source": []
  },
  {
   "cell_type": "markdown",
   "metadata": {},
   "source": [
    "Now we can define the target dataset with this geometry.\n",
    "\n",
    "\n"
   ]
  },
  {
   "cell_type": "code",
   "execution_count": null,
   "metadata": {},
   "outputs": [],
   "source": []
  },
  {
   "cell_type": "markdown",
   "metadata": {},
   "source": [
    "## Prepare the models for known sources\n",
    "\n",
    "First we load the H.E.S.S. Galactic plane survey (HGPS) source catalog"
   ]
  },
  {
   "cell_type": "code",
   "execution_count": null,
   "metadata": {},
   "outputs": [],
   "source": []
  },
  {
   "cell_type": "markdown",
   "metadata": {},
   "source": [
    "and select the sources inside our analysis region"
   ]
  },
  {
   "cell_type": "code",
   "execution_count": null,
   "metadata": {},
   "outputs": [],
   "source": []
  },
  {
   "cell_type": "markdown",
   "metadata": {},
   "source": [
    "## Prepare the models for known sources and diffuse emission \n"
   ]
  },
  {
   "cell_type": "markdown",
   "metadata": {},
   "source": [
    "Now we load an intersellar emission model  (IEM) created with https://github.com/cosmicrays/hermes for the CTA-GPS simulation https://zenodo.org/records/10008527. We added lighter versions in the repo so you can direclty read one of theses using `TemplateSpatialModel.read` method:\n"
   ]
  },
  {
   "cell_type": "code",
   "execution_count": 11,
   "metadata": {},
   "outputs": [],
   "source": [
    "path = Path(\"./models/diffuse_template\")\n",
    "template_iem_base = TemplateSpatialModel.read(path / \"IEM_base_20deg.fits.gz\", normalize=False) \n",
    "template_varmin_rescaled = TemplateSpatialModel.read(path / \"IEM_varmin_rescaled_20deg.fits.gz\", normalize=False) \n",
    "#which one is the best suited for this simulation ? we will try later\n"
   ]
  },
  {
   "cell_type": "markdown",
   "metadata": {},
   "source": [
    "These template are 3D maps so the `normalize=False` option is important to keep spectral information unchanged. \n",
    "We add that into a `SkyModel` together with a `PowerLawNormSpectralModel` that allows to refit the normalisation of the template."
   ]
  },
  {
   "cell_type": "code",
   "execution_count": null,
   "metadata": {},
   "outputs": [],
   "source": []
  },
  {
   "cell_type": "markdown",
   "metadata": {},
   "source": [
    "## Data reduction\n",
    "\n",
    "\n",
    "### Prepare exclusion mask\n",
    "\n",
    "In order to scale the background model we have to mask the region with significant emission as explained in https://docs.gammapy.org/1.2/tutorials/api/mask_maps.html#creating-an-exclusion-mask\n",
    "\n",
    "We start with know sources :\n"
   ]
  },
  {
   "cell_type": "code",
   "execution_count": 13,
   "metadata": {},
   "outputs": [],
   "source": []
  },
  {
   "cell_type": "markdown",
   "metadata": {},
   "source": [
    "We add a $\\pm 1$ deg band to mask the contribution from diffuse emission in the Galactic plane"
   ]
  },
  {
   "cell_type": "code",
   "execution_count": 14,
   "metadata": {},
   "outputs": [
    {
     "name": "stdout",
     "output_type": "stream",
     "text": [
      "[<RectangleSkyRegion(center=<SkyCoord (Galactic): (l, b) in deg\n",
      "    (0., 0.)>, width=20.0 deg, height=2.0 deg, angle=0.0 deg)>]\n"
     ]
    }
   ],
   "source": []
  },
  {
   "cell_type": "markdown",
   "metadata": {},
   "source": [
    " to define the exclusion mask we take the inverse and plot the resulting map to make sure it is correct"
   ]
  },
  {
   "cell_type": "code",
   "execution_count": null,
   "metadata": {},
   "outputs": [],
   "source": []
  },
  {
   "cell_type": "markdown",
   "metadata": {},
   "source": [
    "\n",
    "### Create the maker classes to be used\n",
    "\n",
    "The `~gammapy.makers.MapDatasetMaker` object is initialized as well as\n",
    "the `~gammapy.makers.SafeMaskMaker` that carries here a maximum offset\n",
    "selection and the `~gammapy.makers.FoVBackgroundMaker` which will normalize the background.\n",
    "\n",
    "We will put them into a list to later be used with the `~gammapy.makers.DatasetsMaker`\n",
    "\n"
   ]
  },
  {
   "cell_type": "code",
   "execution_count": null,
   "metadata": {},
   "outputs": [],
   "source": []
  },
  {
   "cell_type": "markdown",
   "metadata": {},
   "source": [
    "### Perform the data reduction\n",
    "\n",
    "Use the DatasetsMaker and run it on the empty dataset and the observation list\n",
    "\n"
   ]
  },
  {
   "cell_type": "code",
   "execution_count": null,
   "metadata": {},
   "outputs": [],
   "source": []
  },
  {
   "cell_type": "markdown",
   "metadata": {},
   "source": [
    "## Save dataset to disk\n",
    "\n",
    "It is common to run the preparation step independent of the likelihood\n",
    "fit, because often the preparation of maps, PSF and energy dispersion is\n",
    "slow if you have a lot of data. We first create a folder:\n",
    "\n",
    "\n"
   ]
  },
  {
   "cell_type": "code",
   "execution_count": 18,
   "metadata": {},
   "outputs": [],
   "source": [
    "path = Path(\"datasets/cta1dc_gc/\")\n",
    "path.mkdir(exist_ok=True)"
   ]
  },
  {
   "cell_type": "markdown",
   "metadata": {},
   "source": [
    "And then write the datasets to disk by calling the dedicated\n",
    "`~gammapy.datasets.Datasets.write` method:\n",
    "\n",
    "\n"
   ]
  },
  {
   "cell_type": "code",
   "execution_count": 19,
   "metadata": {},
   "outputs": [],
   "source": [
    "filename = path / \"datasets_cta1dc_gc.yaml\"\n",
    "datasets.write(filename, overwrite=True)"
   ]
  }
 ],
 "metadata": {
  "kernelspec": {
   "display_name": "Python 3 (ipykernel)",
   "language": "python",
   "name": "python3"
  },
  "language_info": {
   "codemirror_mode": {
    "name": "ipython",
    "version": 3
   },
   "file_extension": ".py",
   "mimetype": "text/x-python",
   "name": "python",
   "nbconvert_exporter": "python",
   "pygments_lexer": "ipython3",
   "version": "3.10.14"
  }
 },
 "nbformat": 4,
 "nbformat_minor": 4
}
