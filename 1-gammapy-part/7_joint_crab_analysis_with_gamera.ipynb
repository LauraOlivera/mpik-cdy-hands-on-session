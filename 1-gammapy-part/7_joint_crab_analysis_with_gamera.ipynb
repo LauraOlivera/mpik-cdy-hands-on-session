{
 "cells": [
  {
   "cell_type": "code",
   "execution_count": null,
   "metadata": {},
   "outputs": [],
   "source": [
    "%matplotlib inline"
   ]
  },
  {
   "cell_type": "markdown",
   "metadata": {},
   "source": [
    "\n",
    "# Multi-instrument joint analysis with Gamera model\n",
    "\n",
    "\n",
    "## Introduction\n",
    "\n",
    "\n",
    "We are goind to reproduce the analysis of the public Crab datasets from [Nigro et al. 2019](https://www.aanda.org/articles/aa/full_html/2019/05/aa34938-18/aa34938-18.html). \\\n",
    "using the gamera Crab model instead of the log-parabola we used previously.\n",
    "In practice, we have to:\n",
    "\n",
    "- Read a DL4 datasets file\n",
    "- Read the `~gammapy.modeling.models.Models` to apply to the datasets.\n",
    "- Create a `~gammapy.modeling.Fit` object and run it to fit the model parameters\n",
    "- Plot the spectrum obtained from the joint fit together with the ones obtained for each instrument fit in their respective validity range.\n",
    "\n"
   ]
  },
  {
   "cell_type": "code",
   "execution_count": null,
   "metadata": {},
   "outputs": [],
   "source": [
    "from IPython.display import display\n",
    "\n",
    "from pathlib import Path\n",
    "\n",
    "import numpy as np\n",
    "import astropy.units as u\n",
    "from astropy.coordinates import SkyCoord\n",
    "\n",
    "import matplotlib.pyplot as plt\n",
    "\n",
    "from gammapy.datasets import Datasets\n",
    "\n",
    "from gammapy.modeling import Fit\n",
    "from gammapy.modeling.models import Models\n",
    "\n"
   ]
  },
  {
   "cell_type": "markdown",
   "metadata": {},
   "source": [
    "## Read the models"
   ]
  },
  {
   "cell_type": "markdown",
   "metadata": {},
   "source": [
    "Read the models we defined previously"
   ]
  },
  {
   "cell_type": "code",
   "execution_count": null,
   "metadata": {},
   "outputs": [],
   "source": [
    "path = Path(\"models\")\n",
    "path.mkdir(exist_ok=True)\n",
    "\n",
    "filename = path / \"models_crab_gamera.yaml\"\n",
    "models = Models.read(filename)\n",
    "\n",
    "models[0].parameters['effic'].frozen=False\n",
    "models[0].parameters['index'].frozen=False\n",
    "\n",
    "models[0].parameters['lon_0'].frozen=True\n",
    "models[0].parameters['lat_0'].frozen=True"
   ]
  },
  {
   "cell_type": "code",
   "execution_count": null,
   "metadata": {},
   "outputs": [],
   "source": []
  },
  {
   "cell_type": "markdown",
   "metadata": {},
   "source": [
    "## Read the datasets\n",
    "\n",
    "We read all the public datasets from the Crab "
   ]
  },
  {
   "cell_type": "code",
   "execution_count": null,
   "metadata": {},
   "outputs": [],
   "source": [
    "filename = \"./datasets/joint_crab/datasets_joint_crab_1d.yaml\"\n",
    "\n",
    "datasets_joint = Datasets.read(filename)\n",
    "\n",
    "datasets_joint.models = models"
   ]
  },
  {
   "cell_type": "markdown",
   "metadata": {},
   "source": [
    "# Joint fit"
   ]
  },
  {
   "cell_type": "markdown",
   "metadata": {},
   "source": [
    "Define the fit instance"
   ]
  },
  {
   "cell_type": "code",
   "execution_count": null,
   "metadata": {},
   "outputs": [],
   "source": [
    "optimize_opts = dict(strategy=1, tolerance=0.1)\n",
    "fit = Fit(optimize_opts=optimize_opts)"
   ]
  },
  {
   "cell_type": "markdown",
   "metadata": {},
   "source": [
    "Let's start to fit the data from each instrument indepently"
   ]
  },
  {
   "cell_type": "code",
   "execution_count": null,
   "metadata": {},
   "outputs": [],
   "source": [
    "instruments = [\"fermi\", \"magic\", \"veritas\", \"fact\", \"hess\", \"hawc\"]\n",
    "results = []\n",
    "for instrument in instruments:\n",
    "    datasets_instrument = Datasets([d for d in datasets_joint if instrument in d.name])\n",
    "    datasets_instrument.models = models\n",
    "\n",
    "\n",
    "    result_instrument = fit.run(datasets=datasets_instrument)\n",
    "    \n",
    "    #here we try to define the validity range of the fit \n",
    "    #we defined it as where the safe mask is true AND where there is detected counts.\n",
    "    Emin = np.inf*u.TeV\n",
    "    Emax = -np.inf*u.TeV\n",
    "    for d in datasets_instrument:\n",
    "        energy_edges = d.counts.geom.axes[\"energy\"].edges\n",
    "        ind = np.where(d.mask_safe&d.counts>0)[0]\n",
    "        Emin = np.minimum(Emin, energy_edges[ind[0]])\n",
    "        Emax = np.maximum(Emax, energy_edges[ind[-1]+1])\n",
    "\n",
    "    #save the datasets, fit results and valid energy range\n",
    "    result = dict()\n",
    "    result[\"instrument\"]=instrument\n",
    "    result[\"Emin\"] = Emin\n",
    "    result[\"Emax\"] = Emax\n",
    "    result[\"models_best_fit\"] = datasets_instrument.models.copy()\n",
    "    result[\"result_minuit\"] = result_instrument\n",
    "    result[\"datasets\"] = datasets_instrument\n",
    "    results.append(result)\n"
   ]
  },
  {
   "cell_type": "markdown",
   "metadata": {},
   "source": [
    "Now we do the joint fit"
   ]
  },
  {
   "cell_type": "code",
   "execution_count": null,
   "metadata": {},
   "outputs": [],
   "source": [
    "result_joint = fit.run(datasets=datasets_joint)\n"
   ]
  },
  {
   "cell_type": "code",
   "execution_count": null,
   "metadata": {},
   "outputs": [],
   "source": [
    "print(result_joint)"
   ]
  },
  {
   "cell_type": "code",
   "execution_count": null,
   "metadata": {},
   "outputs": [],
   "source": [
    "print(result_joint.parameters.to_table())"
   ]
  },
  {
   "cell_type": "code",
   "execution_count": null,
   "metadata": {},
   "outputs": [],
   "source": [
    "Emin = u.Quantity([res[\"Emin\"] for res in results]).min()\n",
    "Emax = u.Quantity([res[\"Emax\"] for res in results]).max()\n",
    "\n",
    "result = dict()\n",
    "result[\"instrument\"]=\"joint\"\n",
    "result[\"Emin\"] = Emin\n",
    "result[\"Emax\"] = Emax\n",
    "result[\"models_best_fit\"] = datasets_joint.models.copy()\n",
    "result[\"result_minuit\"] = result_joint\n",
    "result[\"datasets\"] = datasets_joint\n",
    "results.append(result)\n"
   ]
  },
  {
   "cell_type": "markdown",
   "metadata": {},
   "source": [
    "and compare the results"
   ]
  },
  {
   "cell_type": "code",
   "execution_count": null,
   "metadata": {},
   "outputs": [],
   "source": [
    "fig, ax = plt.subplots(figsize=(10,6))\n",
    "\n",
    "plot_kwargs = {\n",
    "    \"sed_type\": \"e2dnde\",\n",
    "    \"ax\": ax,\n",
    "}\n",
    "prop_cycle = plt.rcParams['axes.prop_cycle']\n",
    "colors = prop_cycle.by_key()['color']\n",
    "\n",
    "for result, color in zip(results, colors):\n",
    "    model = result[\"models_best_fit\"][\"crab\"]\n",
    "    energy_bounds=u.Quantity([result[\"Emin\"], result[\"Emax\"]]).to(\"TeV\")\n",
    "    model.spectral_model.plot(energy_bounds,\n",
    "        **plot_kwargs, label=result[\"instrument\"], ls=\"-\", color=color\n",
    "    )\n",
    "    model.spectral_model.plot_error(energy_bounds, facecolor=color, alpha=0.3, **plot_kwargs)\n",
    "ax.set_ylim(5e-13, 2e-10)\n",
    "ax.legend(loc=3)\n",
    "plt.show()\n"
   ]
  },
  {
   "cell_type": "code",
   "execution_count": null,
   "metadata": {},
   "outputs": [],
   "source": []
  }
 ],
 "metadata": {
  "kernelspec": {
   "display_name": "Python 3 (ipykernel)",
   "language": "python",
   "name": "python3"
  },
  "language_info": {
   "codemirror_mode": {
    "name": "ipython",
    "version": 3
   },
   "file_extension": ".py",
   "mimetype": "text/x-python",
   "name": "python",
   "nbconvert_exporter": "python",
   "pygments_lexer": "ipython3",
   "version": "3.10.14"
  }
 },
 "nbformat": 4,
 "nbformat_minor": 4
}
