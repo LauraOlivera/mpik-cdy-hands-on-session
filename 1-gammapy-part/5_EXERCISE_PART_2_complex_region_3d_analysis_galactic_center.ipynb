{
 "cells": [
  {
   "cell_type": "code",
   "execution_count": 1,
   "metadata": {},
   "outputs": [],
   "source": [
    "%matplotlib inline"
   ]
  },
  {
   "cell_type": "markdown",
   "metadata": {},
   "source": [
    "\n",
    "# 3D map analysis\n",
    "\n",
    "\n",
    "## Context\n",
    "\n",
    "While 1D spectral analysis is sufficient model a single point-source in the ON region, 3D analyses allow to consider complex field of views containing overlapping gamma-ray sources and model their respectibe morphologies.\n",
    "\n",
    "\n",
    "## Proposed approach\n",
    "\n",
    "In practice, we have to:\n",
    "\n",
    "- Create a `~gammapy.data.DataStore` pointing to the relevant data\n",
    "- Apply an observation selection to produce a list of observations,\n",
    "  a `~gammapy.data.Observations` object.\n",
    "- Define a geometry of the `~gammapy.datasets.MapDataset` we want to produce, with a sky projection\n",
    "  and an energy range :\n",
    "    - Create a `~gammapy.maps.MapAxis` for the energy\n",
    "    - Create a `~gammapy.maps.WcsGeom` for the geometry\n",
    "    \n",
    "- Define the`~gammapy.modeling.models.Models` to apply to the dataset.\n",
    "    - Load the known source from previous catalogues for example `gammapy.catalog.SourceCatalogHGPS`\n",
    "    - Read one of the `gammapy.modeling.models.TemplateSpatialModel` provided for the diffuse emission\n",
    "    - Use the known sources to create exclusion region map\n",
    "  \n",
    "- Create the necessary makers:\n",
    "\n",
    "  - the map dataset maker `~gammapy.makers.MapDatasetMaker`\n",
    "  - the background normalization maker, here a `~gammapy.makers.FoVBackgroundMaker` \n",
    "  - and usually the safe range maker : `~gammapy.makers.SafeMaskMaker`\n",
    "\n",
    "- Perform the data reduction loop :\n",
    "  - create a stacked `~gammapy.datasets.MapDataset` using the `~gammapy.makers.DatasetsMaskMaker`\n",
    "\n",
    "- Make a TSmap using `~gammapy.estimators.TSMapEstimator`\n",
    "- Create a `~gammapy.modeling.Fit` object and run it to fit the model\n",
    "  parameters\n",
    "- Use `~gammapy.estimators.utils.find_peaks_in_flux_map` to find new source candidates\n",
    "- Fit, add new source models and re-fit until we get flat residual in the TSmap\n",
    "- Usage of `~gammapy.modeling.select_nested_models` to compute significance for :\n",
    "    - source detection\n",
    "    - spectral curvature\n",
    "    - spatial extension.\n",
    "\n",
    "\n",
    "## Setup\n",
    "\n",
    "First, we setup the analysis by performing required imports.\n"
   ]
  },
  {
   "cell_type": "code",
   "execution_count": 2,
   "metadata": {},
   "outputs": [],
   "source": [
    "from pathlib import Path\n",
    "from astropy import units as u\n",
    "from astropy.coordinates import SkyCoord\n",
    "from regions import CircleSkyRegion, Regions\n",
    "import numpy as np\n",
    "import matplotlib.pyplot as plt\n",
    "import matplotlib as mpl\n",
    "from IPython.display import display\n",
    "\n",
    "from gammapy.catalog import CATALOG_REGISTRY\n",
    "from gammapy.data import DataStore\n",
    "from gammapy.datasets import MapDataset\n",
    "from gammapy.estimators import TSMapEstimator\n",
    "from gammapy.makers import FoVBackgroundMaker, MapDatasetMaker, SafeMaskMaker, DatasetsMaker\n",
    "from gammapy.maps import MapAxis, WcsGeom\n",
    "from gammapy.modeling import Fit\n",
    "from gammapy.modeling.models import (\n",
    "    FoVBackgroundModel,\n",
    "    PointSpatialModel,\n",
    "    PowerLawSpectralModel,\n",
    "    LogParabolaSpectralModel,\n",
    "    SkyModel,\n",
    "    TemplateSpatialModel,\n",
    "    PowerLawNormSpectralModel,\n",
    "    Models,\n",
    "    GeneralizedGaussianSpatialModel\n",
    ")\n",
    "from gammapy.utils.check import check_tutorials_setup\n",
    "from gammapy.visualization import plot_npred_signal\n",
    "\n",
    "from gammapy.utils import pbar\n",
    "pbar.SHOW_PROGRESS_BAR = True"
   ]
  },
  {
   "cell_type": "markdown",
   "metadata": {},
   "source": [
    "## Defining the datastore and selecting observations\n",
    "\n",
    "We first use the `~gammapy.data.DataStore` object to access the\n",
    "observations we want to analyse. Here we are going to use the simulated observations from CTA-1DC (first technical data challenge).\n"
   ]
  },
  {
   "cell_type": "code",
   "execution_count": 3,
   "metadata": {},
   "outputs": [],
   "source": [
    "data_store = DataStore.from_dir(\"$GAMMAPY_DATA/cta-1dc/index/gps/\")"
   ]
  },
  {
   "cell_type": "markdown",
   "metadata": {},
   "source": [
    "We can now define an observation filter to select only the relevant\n",
    "observations. Here we use a cone search which we define with a python\n",
    "dict.\n",
    "\n",
    "We then filter the `ObservationTable` with\n",
    "`~gammapy.data.ObservationTable.select_observations`.\n",
    "\n",
    "\n"
   ]
  },
  {
   "cell_type": "code",
   "execution_count": 4,
   "metadata": {},
   "outputs": [
    {
     "data": {
      "text/html": [
       "<div><i>ObservationTable length=3</i>\n",
       "<table id=\"table5601908368\" class=\"table-striped table-bordered table-condensed\">\n",
       "<thead><tr><th>OBS_ID</th><th>RA_PNT</th><th>DEC_PNT</th><th>GLON_PNT</th><th>GLAT_PNT</th><th>ZEN_PNT</th><th>ALT_PNT</th><th>AZ_PNT</th><th>ONTIME</th><th>LIVETIME</th><th>DEADC</th><th>TSTART</th><th>TSTOP</th><th>DATE-OBS</th><th>TIME-OBS</th><th>DATE-END</th><th>TIME-END</th><th>N_TELS</th><th>OBJECT</th><th>CALDB</th><th>IRF</th><th>EVENTS_FILENAME</th><th>EVENT_COUNT</th></tr></thead>\n",
       "<thead><tr><th></th><th>deg</th><th>deg</th><th>deg</th><th>deg</th><th>deg</th><th>deg</th><th>deg</th><th>s</th><th>s</th><th></th><th>s</th><th>s</th><th></th><th></th><th></th><th></th><th></th><th></th><th></th><th></th><th></th><th></th></tr></thead>\n",
       "<thead><tr><th>int64</th><th>float64</th><th>float64</th><th>float64</th><th>float64</th><th>float64</th><th>float64</th><th>int64</th><th>float64</th><th>float64</th><th>float64</th><th>float64</th><th>float64</th><th>bytes10</th><th>bytes8</th><th>bytes10</th><th>bytes8</th><th>int64</th><th>bytes21</th><th>bytes3</th><th>bytes13</th><th>bytes50</th><th>int64</th></tr></thead>\n",
       "<tr><td>110380</td><td>267.68121338</td><td>-29.6075</td><td>359.9999912037958</td><td>-1.299995937905366</td><td>0.0</td><td>90.0</td><td>0</td><td>1800.0</td><td>1764.0</td><td>0.98000001907</td><td>664502400.0</td><td>664504192.0</td><td>2021-01-21</td><td>11:58:51</td><td>2021-01-21</td><td>12:28:51</td><td>0</td><td>Galactic Plane Survey</td><td>1dc</td><td>South_z20_50h</td><td>1dc/1dc/data/baseline/gps/gps_baseline_110380.fits</td><td>106217</td></tr>\n",
       "<tr><td>111140</td><td>264.2315979</td><td>-29.5214</td><td>358.4999833830074</td><td>1.3000020211954284</td><td>0.0</td><td>90.0</td><td>0</td><td>1800.0</td><td>1764.0</td><td>0.98000001907</td><td>667958400.0</td><td>667960192.0</td><td>2021-03-02</td><td>11:58:51</td><td>2021-03-02</td><td>12:28:51</td><td>0</td><td>Galactic Plane Survey</td><td>1dc</td><td>South_z20_50h</td><td>1dc/1dc/data/baseline/gps/gps_baseline_111140.fits</td><td>106386</td></tr>\n",
       "<tr><td>111159</td><td>266.03671265</td><td>-26.9782</td><td>1.5000056568267741</td><td>1.299940468335294</td><td>0.0</td><td>90.0</td><td>0</td><td>1800.0</td><td>1764.0</td><td>0.98000001907</td><td>668044800.0</td><td>668046592.0</td><td>2021-03-03</td><td>11:58:51</td><td>2021-03-03</td><td>12:28:51</td><td>0</td><td>Galactic Plane Survey</td><td>1dc</td><td>South_z20_50h</td><td>1dc/1dc/data/baseline/gps/gps_baseline_111159.fits</td><td>105741</td></tr>\n",
       "</table></div>"
      ],
      "text/plain": [
       "<ObservationTable length=3>\n",
       "OBS_ID    RA_PNT    ... EVENT_COUNT\n",
       "           deg      ...            \n",
       "int64    float64    ...    int64   \n",
       "------ ------------ ... -----------\n",
       "110380 267.68121338 ...      106217\n",
       "111140  264.2315979 ...      106386\n",
       "111159 266.03671265 ...      105741"
      ]
     },
     "metadata": {},
     "output_type": "display_data"
    }
   ],
   "source": [
    "selection = dict(\n",
    "    type=\"sky_circle\",\n",
    "    frame=\"galactic\",\n",
    "    lon=\"0 deg\",\n",
    "    lat=\"0 deg\",\n",
    "    radius=\"5 deg\",\n",
    ")\n",
    "selected_obs_table = data_store.obs_table.select_observations(selection)\n",
    "\n",
    "display(selected_obs_table)"
   ]
  },
  {
   "cell_type": "markdown",
   "metadata": {},
   "source": [
    "We can now retrieve the relevant observations by passing their\n",
    "``obs_id`` to the `~gammapy.data.DataStore.get_observations`\n",
    "method.\n",
    "\n",
    "\n"
   ]
  },
  {
   "cell_type": "code",
   "execution_count": 5,
   "metadata": {},
   "outputs": [
    {
     "data": {
      "application/vnd.jupyter.widget-view+json": {
       "model_id": "7a9fd9b9e0234427bb3ae024625126e4",
       "version_major": 2,
       "version_minor": 0
      },
      "text/plain": [
       "Obs Id:   0%|          | 0/3 [00:00<?, ?it/s]"
      ]
     },
     "metadata": {},
     "output_type": "display_data"
    }
   ],
   "source": [
    "observations = data_store.get_observations(selected_obs_table[\"OBS_ID\"])"
   ]
  },
  {
   "cell_type": "code",
   "execution_count": 6,
   "metadata": {},
   "outputs": [
    {
     "data": {
      "text/html": [
       "<pre>EventList\n",
       "---------\n",
       "\n",
       "  Instrument       : None\n",
       "  Telescope        : CTA\n",
       "  Obs. ID          : 110380\n",
       "\n",
       "  Number of events : 106217\n",
       "  Event rate       : 59.273 1 / s\n",
       "\n",
       "  Time start       : 59235.5\n",
       "  Time stop        : 59235.52074074074\n",
       "\n",
       "  Min. energy      : 3.00e-02 TeV\n",
       "  Max. energy      : 1.46e+02 TeV\n",
       "  Median energy    : 1.02e-01 TeV\n",
       "\n",
       "  Max. offset      : 5.0 deg\n",
       "</pre>"
      ],
      "text/plain": [
       "<gammapy.data.event_list.EventList at 0x14d8eb8d0>"
      ]
     },
     "execution_count": 6,
     "metadata": {},
     "output_type": "execute_result"
    }
   ],
   "source": [
    "observations[0].events"
   ]
  },
  {
   "cell_type": "markdown",
   "metadata": {},
   "source": [
    "## Preparing reduced datasets geometry\n",
    "\n",
    "Now we define a reference geometry for our analysis, We choose a WCS\n",
    "based geometry with a binsize of 0.02 deg and also define an energy\n",
    "axis:\n",
    "\n",
    "\n"
   ]
  },
  {
   "cell_type": "code",
   "execution_count": 7,
   "metadata": {},
   "outputs": [],
   "source": [
    "energy_axis = MapAxis.from_energy_bounds(0.3, 150.0, 10, unit=\"TeV\", per_decade=True) #we could start at lower E\n",
    "\n",
    "geom = WcsGeom.create(\n",
    "    skydir=(0, 0),\n",
    "    binsz=0.03,\n",
    "    width=(6, 4),\n",
    "    frame=\"galactic\",\n",
    "    proj=\"CAR\",\n",
    "    axes=[energy_axis],\n",
    ")\n",
    "geom_image = geom.to_image()\n",
    "\n",
    "# Reduced IRFs are defined in true energy (i.e. not measured energy).\n",
    "energy_axis_true = MapAxis.from_energy_bounds(\n",
    "    0.05, 200, 10, unit=\"TeV\", name=\"energy_true\", per_decade=True\n",
    ")"
   ]
  },
  {
   "cell_type": "code",
   "execution_count": null,
   "metadata": {},
   "outputs": [],
   "source": []
  },
  {
   "cell_type": "markdown",
   "metadata": {},
   "source": [
    "Now we can define the target dataset with this geometry.\n",
    "\n",
    "\n"
   ]
  },
  {
   "cell_type": "code",
   "execution_count": 8,
   "metadata": {},
   "outputs": [],
   "source": [
    "dataset_empty = MapDataset.create(\n",
    "    geom=geom, energy_axis_true=energy_axis_true, name=\"gc-stacked\"\n",
    ")"
   ]
  },
  {
   "cell_type": "markdown",
   "metadata": {},
   "source": [
    "## Prepare the models for known sources\n",
    "\n",
    "First we load the H.E.S.S. Galactic plane survey (HGPS) source catalog"
   ]
  },
  {
   "cell_type": "code",
   "execution_count": 9,
   "metadata": {},
   "outputs": [
    {
     "name": "stdout",
     "output_type": "stream",
     "text": [
      "SourceCatalogHGPS:\n",
      "    name: hgps\n",
      "    description: H.E.S.S. Galactic plane survey (HGPS) source catalog\n",
      "    sources: 78\n",
      "\n"
     ]
    }
   ],
   "source": [
    "hgps = CATALOG_REGISTRY.get_cls(\"hgps\")()\n",
    "\n",
    "print(hgps)"
   ]
  },
  {
   "cell_type": "markdown",
   "metadata": {},
   "source": [
    "and select the sources inside our analysis region"
   ]
  },
  {
   "cell_type": "code",
   "execution_count": 10,
   "metadata": {},
   "outputs": [
    {
     "name": "stderr",
     "output_type": "stream",
     "text": [
      "/Users/qremy/anaconda3/envs/gpy-dev/lib/python3.11/site-packages/astropy/units/quantity.py:673: RuntimeWarning: divide by zero encountered in divide\n",
      "  result = super().__array_ufunc__(function, method, *arrays, **kwargs)\n",
      "/Users/qremy/Work/GitHub/gammapy/gammapy/modeling/models/spatial.py:655: RuntimeWarning: invalid value encountered in multiply\n",
      "  return u.Quantity(norm * np.exp(exponent).value, \"sr-1\", copy=COPY_IF_NEEDED)\n"
     ]
    },
    {
     "name": "stdout",
     "output_type": "stream",
     "text": [
      "['HESS J1741-302', 'HESS J1745-290', 'HESS J1745-303', 'HESS J1746-285', 'HESS J1746-308', 'HESS J1747-281']\n"
     ]
    }
   ],
   "source": [
    "hgps_models = hgps.to_models()\n",
    "inside_geom = geom_image.contains(hgps_models.positions)\n",
    "source_models = hgps_models[inside_geom]\n",
    "print(source_models.names)"
   ]
  },
  {
   "cell_type": "markdown",
   "metadata": {},
   "source": [
    "## Prepare the models for known sources and diffuse emission \n"
   ]
  },
  {
   "cell_type": "markdown",
   "metadata": {},
   "source": [
    "Now we load an intersellar emission model  (IEM) created with https://github.com/cosmicrays/hermes for the CTA-GPS simulation https://zenodo.org/records/10008527. We added lighter versions in the repo so you can direclty read one of theses using `TemplateSpatialModel.read` method:\n"
   ]
  },
  {
   "cell_type": "code",
   "execution_count": 11,
   "metadata": {},
   "outputs": [],
   "source": [
    "path = Path(\"./models/diffuse_template\")\n",
    "template_iem_base = TemplateSpatialModel.read(path / \"IEM_base_20deg.fits.gz\", normalize=False) \n",
    "template_varmin_rescaled = TemplateSpatialModel.read(path / \"IEM_varmin_rescaled_20deg.fits.gz\", normalize=False) \n",
    "#which one is the best suited for this simulation ? we will try later\n"
   ]
  },
  {
   "cell_type": "markdown",
   "metadata": {},
   "source": [
    "These template are 3D maps so the `normalize=False` option is important to keep spectral information unchanged. \n",
    "We add that into a `SkyModel` together with a `PowerLawNormSpectralModel` that allows to refit the normalisation of the template."
   ]
  },
  {
   "cell_type": "code",
   "execution_count": 12,
   "metadata": {},
   "outputs": [],
   "source": [
    "iem_base = SkyModel(spatial_model=template_iem_base,\n",
    "                            spectral_model=PowerLawNormSpectralModel(),\n",
    "                            name=\"iem_base\"\n",
    "                           )\n",
    "iem_varmin_rescaled = SkyModel(spatial_model=template_varmin_rescaled,\n",
    "                               spectral_model=PowerLawNormSpectralModel(),\n",
    "                               name=\"iem_varmin_rescaled\"\n",
    "                              )"
   ]
  },
  {
   "cell_type": "markdown",
   "metadata": {},
   "source": [
    "## Data reduction\n",
    "\n",
    "\n",
    "### Prepare exclusion mask\n",
    "\n",
    "In order to scale the background model we have to mask the region with significant emission as explained in https://docs.gammapy.org/1.2/tutorials/api/mask_maps.html#creating-an-exclusion-mask\n",
    "\n",
    "We start with know sources :\n"
   ]
  },
  {
   "cell_type": "code",
   "execution_count": 13,
   "metadata": {},
   "outputs": [],
   "source": [
    "exclusion_radius = 0.3*u.deg # is it enough ? check psf 99% containment\n",
    "\n",
    "source_regions = []\n",
    "for source in source_models:\n",
    "    radius = np.sqrt(exclusion_radius**2 + source.evaluation_radius**2)\n",
    "    source_regions.append(CircleSkyRegion(source.position, radius)) "
   ]
  },
  {
   "cell_type": "markdown",
   "metadata": {},
   "source": [
    "We add a $\\pm 1$ deg band to mask the contribution from diffuse emission in the Galactic plane"
   ]
  },
  {
   "cell_type": "code",
   "execution_count": 14,
   "metadata": {},
   "outputs": [
    {
     "name": "stdout",
     "output_type": "stream",
     "text": [
      "[<RectangleSkyRegion(center=<SkyCoord (Galactic): (l, b) in deg\n",
      "    (0., 0.)>, width=20.0 deg, height=2.0 deg, angle=0.0 deg)>]\n"
     ]
    }
   ],
   "source": [
    "regions_ds9 = \"galactic;box(0,0,20.0,2, 0)\"\n",
    "regions = list(Regions.parse(regions_ds9, format=\"ds9\"))\n",
    "print(regions)"
   ]
  },
  {
   "cell_type": "code",
   "execution_count": 15,
   "metadata": {},
   "outputs": [
    {
     "data": {
      "image/png": "[encoded data removed]",
      "text/plain": [
       "<Figure size 640x480 with 1 Axes>"
      ]
     },
     "metadata": {},
     "output_type": "display_data"
    }
   ],
   "source": [
    "# to define the exclusion mask we take the inverse\n",
    "exclusion_mask = ~geom_image.region_mask(regions+source_regions)\n",
    "exclusion_mask.plot()\n",
    "plt.show()"
   ]
  },
  {
   "cell_type": "markdown",
   "metadata": {},
   "source": [
    "\n",
    "### Create the maker classes to be used\n",
    "\n",
    "The `~gammapy.makers.MapDatasetMaker` object is initialized as well as\n",
    "the `~gammapy.makers.SafeMaskMaker` that carries here a maximum offset\n",
    "selection.\n",
    "\n"
   ]
  },
  {
   "cell_type": "code",
   "execution_count": 16,
   "metadata": {},
   "outputs": [],
   "source": [
    "dataset_maker = MapDatasetMaker()\n",
    "safe_mask_maker = SafeMaskMaker(\n",
    "    methods=[\"offset-max\", \"aeff-max\"], offset_max=5 * u.deg, aeff_percent=2\n",
    ")\n",
    "\n",
    "fov_bkg_maker = FoVBackgroundMaker(method=\"fit\", exclusion_mask=exclusion_mask)\n",
    "\n",
    "makers = [dataset_maker, safe_mask_maker, fov_bkg_maker]  # the order matter\n"
   ]
  },
  {
   "cell_type": "markdown",
   "metadata": {},
   "source": [
    "### Perform the data reduction\n",
    "\n",
    "\n"
   ]
  },
  {
   "cell_type": "code",
   "execution_count": 17,
   "metadata": {},
   "outputs": [
    {
     "data": {
      "application/vnd.jupyter.widget-view+json": {
       "model_id": "ef6b7fd384d34c3eb811976e133371be",
       "version_major": 2,
       "version_minor": 0
      },
      "text/plain": [
       "Data reduction:   0%|          | 0/3 [00:00<?, ?it/s]"
      ]
     },
     "metadata": {},
     "output_type": "display_data"
    },
    {
     "name": "stderr",
     "output_type": "stream",
     "text": [
      "WARNING: UnitsWarning: '1/s/MeV/sr' did not parse as fits unit: Numeric factor not supported by FITS If this is meant to be a custom unit, define it with 'u.def_unit'. To have it recognized inside a file reader or other code, enable it with 'u.add_enabled_units'. For details, see https://docs.astropy.org/en/latest/units/combining_and_defining.html [astropy.units.core]\n",
      "Invalid unit found in background table! Assuming (s-1 MeV-1 sr-1)\n",
      "WARNING: UnitsWarning: '1/s/MeV/sr' did not parse as fits unit: Numeric factor not supported by FITS If this is meant to be a custom unit, define it with 'u.def_unit'. To have it recognized inside a file reader or other code, enable it with 'u.add_enabled_units'. For details, see https://docs.astropy.org/en/latest/units/combining_and_defining.html [astropy.units.core]\n",
      "Invalid unit found in background table! Assuming (s-1 MeV-1 sr-1)\n",
      "WARNING: UnitsWarning: '1/s/MeV/sr' did not parse as fits unit: Numeric factor not supported by FITS If this is meant to be a custom unit, define it with 'u.def_unit'. To have it recognized inside a file reader or other code, enable it with 'u.add_enabled_units'. For details, see https://docs.astropy.org/en/latest/units/combining_and_defining.html [astropy.units.core]\n",
      "Invalid unit found in background table! Assuming (s-1 MeV-1 sr-1)\n"
     ]
    },
    {
     "name": "stdout",
     "output_type": "stream",
     "text": [
      "Datasets\n",
      "--------\n",
      "\n",
      "Dataset 0: \n",
      "\n",
      "  Type       : MapDataset\n",
      "  Name       : gc-stacked\n",
      "  Instrument : \n",
      "  Models     : \n",
      "\n",
      "\n"
     ]
    }
   ],
   "source": [
    "datasets_maker = DatasetsMaker(makers, stack_datasets=True, n_jobs=3)\n",
    "datasets = datasets_maker.run(dataset_empty, observations)\n",
    "\n",
    "print(datasets)"
   ]
  },
  {
   "cell_type": "markdown",
   "metadata": {},
   "source": [
    "## Read the datasets we made\n",
    "\n",
    "It is common to run the preparation step independent of the likelihood\n",
    "fit, because often the preparation of maps, PSF and energy dispersion is\n",
    "slow if you have a lot of data. We first create a folder:\n",
    "\n",
    "\n"
   ]
  },
  {
   "cell_type": "code",
   "execution_count": 19,
   "metadata": {},
   "outputs": [],
   "source": [
    "filename = path / \"datasets_cta1dc_gc.yaml\"\n",
    "datasets.write(filename, overwrite=True)"
   ]
  },
  {
   "cell_type": "code",
   "execution_count": null,
   "metadata": {},
   "outputs": [],
   "source": [
    "path = Path(\"datasets/cta1dc_gc/\")\n",
    "\n",
    "filename = path / \"datasets_cta1dc_gc.yaml\"\n",
    "datasets = Datasets.read(filename)"
   ]
  },
  {
   "cell_type": "markdown",
   "metadata": {},
   "source": [
    "### Inspect the reduced dataset\n",
    "\n",
    "Use the peek method\n",
    "\n",
    "\n"
   ]
  },
  {
   "cell_type": "code",
   "execution_count": null,
   "metadata": {},
   "outputs": [],
   "source": []
  },
  {
   "cell_type": "markdown",
   "metadata": {},
   "source": [
    "### Inspecting residuals\n",
    "\n",
    "Let's quickly look at the excess above the background before adding models.\n",
    "We have a few options on the dataset object to handle this. First we can use\n",
    "`~gammapy.datasets.MapDataset.plot_residuals` to plot a residual image summed over all\n",
    "energies and the spectral residuals in given region :\n",
    "\n",
    "\n"
   ]
  },
  {
   "cell_type": "code",
   "execution_count": null,
   "metadata": {},
   "outputs": [],
   "source": []
  },
  {
   "cell_type": "markdown",
   "metadata": {},
   "source": [
    "We can make also use the `~gammapy.estimators.TSMapEstimator` get a map of the test statistic (TS) between two hypothesis : the best-fit flux model (assuming a given spatial shape and spectral index) and the null model (flux=0 i.e no source).\n",
    "\n",
    "You should set the kernel_width to a value close to the 95-99% containment radius of the PSF, set sum_over_energy_groups=True and give a reasonable energy range in as energy_edges\n",
    "\n",
    "What model will you use?"
   ]
  },
  {
   "cell_type": "code",
   "execution_count": null,
   "metadata": {},
   "outputs": [],
   "source": []
  },
  {
   "cell_type": "code",
   "execution_count": null,
   "metadata": {},
   "outputs": [],
   "source": []
  },
  {
   "cell_type": "code",
   "execution_count": 24,
   "metadata": {},
   "outputs": [],
   "source": []
  },
  {
   "cell_type": "markdown",
   "metadata": {},
   "source": [
    "and plot the square root of TS map that can be considered as the detection significance"
   ]
  },
  {
   "cell_type": "code",
   "execution_count": null,
   "metadata": {},
   "outputs": [],
   "source": []
  },
  {
   "cell_type": "markdown",
   "metadata": {},
   "source": [
    "## Add the models to the datasets\n",
    "\n",
    "We define a `FoVBackgroundModel` to rescale the background of each dataset "
   ]
  },
  {
   "cell_type": "code",
   "execution_count": 26,
   "metadata": {},
   "outputs": [],
   "source": [
    "bkg_models = Models([FoVBackgroundModel(dataset_name=d.name) for d in datasets])"
   ]
  },
  {
   "cell_type": "markdown",
   "metadata": {},
   "source": [
    "and add these to the datasets with diffuse and sources models"
   ]
  },
  {
   "cell_type": "code",
   "execution_count": 27,
   "metadata": {},
   "outputs": [],
   "source": [
    "datasets.models = source_models + bkg_models + [iem_base]\n",
    "#datasets.models = source_models + bkg_models + [iem_varmin_rescaled]"
   ]
  },
  {
   "cell_type": "markdown",
   "metadata": {},
   "source": [
    "Let's compute the residual significance map again"
   ]
  },
  {
   "cell_type": "code",
   "execution_count": null,
   "metadata": {},
   "outputs": [],
   "source": []
  },
  {
   "cell_type": "markdown",
   "metadata": {},
   "source": [
    "The diffuse emission from the central molecular has to be reffited and some new sources seems to appears. \\\n",
    "So first we are going to do a fit of the known sources, and diffuse emission.\n",
    "Then we are goind to add other sources iteratively."
   ]
  },
  {
   "cell_type": "code",
   "execution_count": null,
   "metadata": {},
   "outputs": [],
   "source": []
  },
  {
   "cell_type": "markdown",
   "metadata": {},
   "source": [
    "## Fit the model\n",
    "\n",
    "The `~gammapy.modeling.Fit` class is orchestrating the fit, connecting\n",
    "the ``stats`` method of the dataset to the minimizer. By default, it\n",
    "uses ``iminuit``.\n",
    "\n",
    "Its constructor takes a list of dataset as argument.\n",
    "\n",
    "\n"
   ]
  },
  {
   "cell_type": "code",
   "execution_count": null,
   "metadata": {},
   "outputs": [],
   "source": []
  },
  {
   "cell_type": "code",
   "execution_count": null,
   "metadata": {},
   "outputs": [],
   "source": []
  },
  {
   "cell_type": "markdown",
   "metadata": {},
   "source": [
    "The fitted parameters are visible from the\n",
    "`~gammapy.modeling.models.Models` object.\n",
    "\n",
    "\n"
   ]
  },
  {
   "cell_type": "code",
   "execution_count": null,
   "metadata": {},
   "outputs": [],
   "source": []
  },
  {
   "cell_type": "markdown",
   "metadata": {},
   "source": [
    "Let's look at the residuals significance again"
   ]
  },
  {
   "cell_type": "code",
   "execution_count": null,
   "metadata": {},
   "outputs": [],
   "source": []
  },
  {
   "cell_type": "markdown",
   "metadata": {},
   "source": [
    "now we unfreeze the all parameters"
   ]
  },
  {
   "cell_type": "code",
   "execution_count": 34,
   "metadata": {},
   "outputs": [],
   "source": []
  },
  {
   "cell_type": "code",
   "execution_count": null,
   "metadata": {},
   "outputs": [],
   "source": []
  },
  {
   "cell_type": "code",
   "execution_count": null,
   "metadata": {},
   "outputs": [],
   "source": []
  },
  {
   "cell_type": "markdown",
   "metadata": {},
   "source": [
    "We look for peak in the map using `~gammapy.estimators.utils.find_peaks_in_flux_map`\n",
    "and display various parameters :\n",
    "\n"
   ]
  },
  {
   "cell_type": "code",
   "execution_count": 37,
   "metadata": {},
   "outputs": [],
   "source": []
  },
  {
   "cell_type": "code",
   "execution_count": null,
   "metadata": {},
   "outputs": [],
   "source": []
  },
  {
   "cell_type": "markdown",
   "metadata": {},
   "source": [
    "let's create a new ` SkyModel` for this source candidate with a `GeneralizedGaussianSpatialModel` as spatial model and `LogParabolaSpectralModel` as spectral model."
   ]
  },
  {
   "cell_type": "code",
   "execution_count": 39,
   "metadata": {},
   "outputs": [],
   "source": []
  },
  {
   "cell_type": "code",
   "execution_count": 40,
   "metadata": {},
   "outputs": [],
   "source": []
  },
  {
   "cell_type": "code",
   "execution_count": null,
   "metadata": {},
   "outputs": [],
   "source": []
  },
  {
   "cell_type": "markdown",
   "metadata": {},
   "source": [
    "add it to the source list"
   ]
  },
  {
   "cell_type": "code",
   "execution_count": 42,
   "metadata": {},
   "outputs": [],
   "source": []
  },
  {
   "cell_type": "markdown",
   "metadata": {},
   "source": [
    "and reset the models on the datasets"
   ]
  },
  {
   "cell_type": "code",
   "execution_count": 43,
   "metadata": {},
   "outputs": [],
   "source": []
  },
  {
   "cell_type": "markdown",
   "metadata": {},
   "source": [
    "Guess what's come next ?\\\n",
    "Yes we are going to do another fit and plot the residual significance.\\\n",
    "To make it faster we fit only the new source first, and then everything."
   ]
  },
  {
   "cell_type": "code",
   "execution_count": null,
   "metadata": {},
   "outputs": [],
   "source": []
  },
  {
   "cell_type": "code",
   "execution_count": null,
   "metadata": {},
   "outputs": [],
   "source": []
  },
  {
   "cell_type": "code",
   "execution_count": null,
   "metadata": {},
   "outputs": [],
   "source": []
  },
  {
   "cell_type": "code",
   "execution_count": null,
   "metadata": {},
   "outputs": [],
   "source": []
  },
  {
   "cell_type": "code",
   "execution_count": null,
   "metadata": {},
   "outputs": [],
   "source": []
  },
  {
   "cell_type": "code",
   "execution_count": null,
   "metadata": {},
   "outputs": [],
   "source": []
  },
  {
   "cell_type": "markdown",
   "metadata": {},
   "source": [
    "We can plot the residual significance distribution compared to the expected normal distribution using `~gammapy.visualization.plot_distribution`"
   ]
  },
  {
   "cell_type": "code",
   "execution_count": null,
   "metadata": {},
   "outputs": [],
   "source": []
  },
  {
   "cell_type": "markdown",
   "metadata": {},
   "source": [
    "Let's plot all source spectral models"
   ]
  },
  {
   "cell_type": "code",
   "execution_count": null,
   "metadata": {
    "code_folding": []
   },
   "outputs": [],
   "source": []
  },
  {
   "cell_type": "markdown",
   "metadata": {},
   "source": [
    "Here we can plot the number of predicted counts for each model and\n",
    "for the background in our dataset. In order to do this, we can use\n",
    "the `~gammapy.visualization.plot_npred_signal` function.\n",
    "\n",
    "\n"
   ]
  },
  {
   "cell_type": "code",
   "execution_count": null,
   "metadata": {},
   "outputs": [],
   "source": []
  },
  {
   "cell_type": "markdown",
   "metadata": {},
   "source": [
    "## Alternative hypothesis testing"
   ]
  },
  {
   "cell_type": "markdown",
   "metadata": {},
   "source": [
    "First we are going to compute the detection significance using `~gammapy.modeling.select_nested_models` and remove the sources below 4 sigma\n"
   ]
  },
  {
   "cell_type": "code",
   "execution_count": 53,
   "metadata": {},
   "outputs": [],
   "source": [
    "from gammapy.modeling import select_nested_models\n",
    "from gammapy.stats.utils import ts_to_sigma"
   ]
  },
  {
   "cell_type": "code",
   "execution_count": null,
   "metadata": {},
   "outputs": [],
   "source": []
  },
  {
   "cell_type": "code",
   "execution_count": 55,
   "metadata": {},
   "outputs": [],
   "source": []
  },
  {
   "cell_type": "markdown",
   "metadata": {},
   "source": [
    "Some of the HESS sources are not significantly detected (we would need more observations or maybe they were not simulated). \\\n",
    "We can remove them from the models and reset the models on the dataset."
   ]
  },
  {
   "cell_type": "code",
   "execution_count": 56,
   "metadata": {},
   "outputs": [],
   "source": []
  },
  {
   "cell_type": "code",
   "execution_count": null,
   "metadata": {},
   "outputs": [],
   "source": []
  },
  {
   "cell_type": "markdown",
   "metadata": {},
   "source": [
    "Now let's test the properties of the new source: \n",
    "- is the spectral curvature is significant ?\n",
    "- is the extension significant ?\n",
    "\n",
    "Again we can use `~gammapy.modeling.select_nested_models` \\\n",
    "But first we are going to freeze the other models for simplicity:"
   ]
  },
  {
   "cell_type": "code",
   "execution_count": null,
   "metadata": {},
   "outputs": [],
   "source": []
  },
  {
   "cell_type": "code",
   "execution_count": null,
   "metadata": {},
   "outputs": [],
   "source": []
  },
  {
   "cell_type": "code",
   "execution_count": null,
   "metadata": {},
   "outputs": [],
   "source": []
  }
 ],
 "metadata": {
  "kernelspec": {
   "display_name": "Python 3 (ipykernel)",
   "language": "python",
   "name": "python3"
  },
  "language_info": {
   "codemirror_mode": {
    "name": "ipython",
    "version": 3
   },
   "file_extension": ".py",
   "mimetype": "text/x-python",
   "name": "python",
   "nbconvert_exporter": "python",
   "pygments_lexer": "ipython3",
   "version": "3.10.14"
  }
 },
 "nbformat": 4,
 "nbformat_minor": 4
}
